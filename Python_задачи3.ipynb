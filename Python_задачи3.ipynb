{
  "nbformat": 4,
  "nbformat_minor": 0,
  "metadata": {
    "colab": {
      "provenance": []
    },
    "kernelspec": {
      "name": "python3",
      "display_name": "Python 3"
    },
    "language_info": {
      "name": "python"
    }
  },
  "cells": [
    {
      "cell_type": "markdown",
      "source": [
        "**Навигация по уроку**\n",
        "\n",
        "1. [ Функции. Классы и объекты. Програмные модули](https://colab.research.google.com/drive/1LtSAdLzWIP-xTADXIktKF9yxsh0ioEqN#scrollTo=O0dFTIuYGKI4)\n",
        "2. [Практика](https://colab.research.google.com/drive/1GblqLwJKMaNBV4cIyrbQqt7Rsf-7Bbx7)\n",
        "3. Домашняя работа"
      ],
      "metadata": {
        "id": "8LIWrmOPjBO6"
      }
    },
    {
      "cell_type": "markdown",
      "source": [
        "## Задача 1. Случайный номерной знак"
      ],
      "metadata": {
        "id": "Bh5tu_5BH-rG"
      }
    },
    {
      "cell_type": "markdown",
      "source": [
        "**Условие.** Представьте, что в вашем регионе устаревшим является формат номерных автомобильных знаков из трех букв, следом за которыми идут три цифры. Когда все номера такого шаблона закончились, было решено обновить формат, поставив в начало четыре цифры, а за ними три буквы.\n",
        "Напишите функцию, которая будет генерировать случайный номерной знак. При этом номера в старом и новом форматах должны создаваться примерно с одинаковой вероятностью. В основной программе нужно сгенерировать и вывести на экран случайный номерной знак."
      ],
      "metadata": {
        "id": "pLn92q_iLp_k"
      }
    },
    {
      "cell_type": "code",
      "execution_count": null,
      "metadata": {
        "id": "El4o9_QWeq78",
        "colab": {
          "base_uri": "https://localhost:8080/"
        },
        "outputId": "7a4429d0-e706-4f55-9845-afce861ddf2d"
      },
      "outputs": [
        {
          "output_type": "stream",
          "name": "stdout",
          "text": [
            "Ваш номерной знак:  3969hpj\n"
          ]
        }
      ],
      "source": [
        "#Решение\n",
        "#\n",
        "#Добавляем несколько модулей для решения\n",
        "import math\n",
        "import random\n",
        "import string\n",
        "#Создаём функцию генерации номеров на основании параметров формата цифры-буквы 3-3, 3-4 и добавляем вероятность выдачи 50 процентов.\n",
        "def carsnumber():\n",
        "    oldcarsnumber = 0.5\n",
        "    if random.random() < oldcarsnumber:\n",
        "        letters = \"\".join(random.choice(string.ascii_letters) for _ in range(3))\n",
        "        numbers = \"\".join(random.choice(string.digits) for _ in range(3))\n",
        "        return (f\"{letters}{numbers}\")\n",
        "    else:\n",
        "        numbers = \"\".join(random.choice(string.digits) for _ in range(4))\n",
        "        letters = \"\".join(random.choice(string.ascii_letters) for _ in range(3))\n",
        "        return (f\"{numbers}{letters}\")\n",
        "#Выводим на экран результат\n",
        "randomnumber = carsnumber()\n",
        "print(\"Ваш номерной знак: \", randomnumber)"
      ]
    },
    {
      "cell_type": "markdown",
      "source": [
        "## Задача 2. Шестнадцатеричные и десятичные числа"
      ],
      "metadata": {
        "id": "I4wpSF3IMHdX"
      }
    },
    {
      "cell_type": "markdown",
      "source": [
        "**Условие.** Напишите две функции с  именами hex2int и  int2hex для конвертации\n",
        "значений из шестнадцатеричной системы счисления (0, 1, 2, 3, 4, 5, 6, 7, 8, 9, A, B, C, D, E и F) в десятичную (по основанию 10) и обратно. Функция hex2int должна принимать на вход строку с единственным символом в  шестнадцатеричной системе и  преобразовывать его в  число от нуля до 15 в десятичной системе, тогда как функция int2hex будет выполнять обратное действие – принимать десятичное число из диапазона от 0 до 15 и возвращать шестнадцатеричный эквивалент. Обе функции должны принимать единственный параметр со входным значением и возвращать преобразованное число. Удостоверьтесь, что функция hex2int корректно обрабатывает буквы в верхнем и нижнем регистрах. Если введенное пользователем значение выходит за допустимые границы, вы должны вывести сообщение об ошибке."
      ],
      "metadata": {
        "id": "mYg_KnVwMStB"
      }
    },
    {
      "cell_type": "code",
      "source": [
        "#Решение\n",
        "#\n",
        "#Создаём функции с задаными именами и символами, учитывая регистр букв\n",
        "def hex2int(a):\n",
        "    hexsymbol = \"0123456789ABCDEF\";\n",
        "    if len(a) != 1:\n",
        "        return -1;\n",
        "    return hexsymbol.find(a.upper());\n",
        "\n",
        "def int2hex(b):\n",
        "    hexsymbol = \"0123456789ABCDEF\";\n",
        "    if b not in range(len(hexsymbol)):\n",
        "        return -1;\n",
        "    return hexsymbol[b];\n",
        "\n",
        "#Создаём функцию результата перевода значений из систем счисления, учитывая ввод ошибочных значений\n",
        "def transresult(result):\n",
        "    if result == -1:\n",
        "        print(\"Ошибка ввода. \")\n",
        "    else:\n",
        "        print(result);\n",
        "#Запрашиваем у пользователя числа, переводим их и выдаём результат\n",
        "while True:\n",
        "    a = input(\"Введите значение шестнадцатиричной системы: \");\n",
        "    result = hex2int(a);\n",
        "    transresult(result);\n",
        "\n",
        "    b = int(input(\"Введите значение десятичной системы: \"));\n",
        "    result = int2hex(b);\n",
        "    transresult(result);\n",
        "    break\n"
      ],
      "metadata": {
        "id": "j4R38AofMTBX",
        "colab": {
          "base_uri": "https://localhost:8080/"
        },
        "outputId": "fb5f4a8e-5ba0-4736-9b77-d9bb7bace77b"
      },
      "execution_count": null,
      "outputs": [
        {
          "output_type": "stream",
          "name": "stdout",
          "text": [
            "Введите значение шестнадцатиричной системы: E\n",
            "14\n",
            "Введите значение десятичной системы: 14\n",
            "E\n"
          ]
        }
      ]
    },
    {
      "cell_type": "markdown",
      "source": [
        "## Задача 3. Беспилотный автомобиль"
      ],
      "metadata": {
        "id": "RIOKyPjlMZA_"
      }
    },
    {
      "cell_type": "markdown",
      "source": [
        "**Условие.** Это творческая задача. Представьте, что вы проектируете беспилотный автомобиль. Вам необходимо продумать, какими свойствами он обладает и какие действия совершает. Создайте класс беспилотный автомобиль и сохраните его в виде программного модуля. Импортируете класс и инициализируйте новый объект.  "
      ],
      "metadata": {
        "id": "OlVQTKYrMZBA"
      }
    },
    {
      "cell_type": "code",
      "source": [
        "#Решение\n",
        "#\n",
        "# Создаём класс \"беспилотный автомобиль\", наделяем его свойствами и действиями и сохраняем в виде программного модуля\n",
        "%%writefile Autocar.py\n",
        "\n",
        "class autopilotcar:\n",
        "    Nameclass = \"Беспилотный автомобиль\"\n",
        "\n",
        "    def __init__(self, brand, maxspeed):\n",
        "        self.brand = brand\n",
        "        self.maxspeed = maxspeed\n",
        "        self.autopilotenabled = False\n",
        "\n",
        "    def activateautopilot(self):\n",
        "        self.autopilotenabled = True\n",
        "        print(\"Автопилот активирован.\")\n",
        "\n",
        "    def deactivateautopilot(self):\n",
        "        self.autopilotenabled = False\n",
        "        print(\"Автопилот деактивирован.\")\n",
        "\n",
        "    def accelerate(self):\n",
        "        print(\"Едем прямо.\")\n",
        "\n",
        "    def right(self):\n",
        "        print(\"Едем направо.\")\n",
        "\n",
        "    def left(self):\n",
        "        print(\"Едем налево.\")\n",
        "\n",
        "    def stop(self):\n",
        "        print(\"Тормозим.\")\n",
        "\n",
        "    def reverse(self):\n",
        "        print(\"Сдаём назад.\")\n",
        "\n",
        "\n",
        "\n"
      ],
      "metadata": {
        "id": "U2JxR4KOMZBA",
        "colab": {
          "base_uri": "https://localhost:8080/"
        },
        "outputId": "367f8e4e-4453-44c2-b15e-1aad458bed08"
      },
      "execution_count": null,
      "outputs": [
        {
          "output_type": "stream",
          "name": "stdout",
          "text": [
            "Overwriting Autocar.py\n"
          ]
        }
      ]
    },
    {
      "cell_type": "code",
      "source": [
        "#Импортируем класс и инициализируем новый объект\n",
        "from Autocar import autopilotcar\n",
        "mуkar = autopilotcar(\"Chevrolet\", 220)\n",
        "print(\"Тип автомобиля: \", mуkar.Nameclass)\n",
        "print(\"Бренд\", mуkar.brand)\n",
        "print(\"Максимальная скорость: \", mуkar.maxspeed)\n",
        "mуkar.activateautopilot()\n",
        "mуkar.deactivateautopilot()\n",
        "\n",
        "\n"
      ],
      "metadata": {
        "colab": {
          "base_uri": "https://localhost:8080/"
        },
        "id": "w0csLIhtXqq9",
        "outputId": "97283585-9048-4145-97fb-dd09d7d543f3"
      },
      "execution_count": null,
      "outputs": [
        {
          "output_type": "stream",
          "name": "stdout",
          "text": [
            "Тип автомобиля:  Беспилотный автомобиль\n",
            "Бренд Chevrolet\n",
            "Максимальная скорость:  220\n",
            "Автопилот активирован.\n",
            "Автопилот деактивирован.\n"
          ]
        }
      ]
    }
  ]
}