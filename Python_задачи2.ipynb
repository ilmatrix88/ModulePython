{
  "nbformat": 4,
  "nbformat_minor": 0,
  "metadata": {
    "colab": {
      "provenance": []
    },
    "kernelspec": {
      "name": "python3",
      "display_name": "Python 3"
    },
    "language_info": {
      "name": "python"
    }
  },
  "cells": [
    {
      "cell_type": "markdown",
      "source": [
        "## Задача 1. Собачий возраст."
      ],
      "metadata": {
        "id": "3ZTqsA3QAdNT"
      }
    },
    {
      "cell_type": "markdown",
      "source": [
        "**Условие.** Считается, что один год, прожитый собакой, эквивалентен семи человеческим годам. При этом зачастую не учитывается, что собаки становятся\n",
        "абсолютно взрослыми уже к двум годам. Таким образом, многие предпочитают каждый из первых двух лет жизни собаки приравнивать к 10,5 года человеческой жизни, а все последующие – к четырем.\n",
        "Напишите программу, которая будет переводить человеческий возраст в  собачий с  учетом указанной выше логики. Убедитесь, что программа\n",
        "корректно работает при пересчете возраста собаки меньше и больше двух лет. Также программа должна выводить сообщение об ошибке, если пользователь ввел отрицательное число, либо не числовое значение.\n"
      ],
      "metadata": {
        "id": "h0qekVbbAdNU"
      }
    },
    {
      "cell_type": "code",
      "source": [
        "#Решение\n",
        "#\n",
        "import math\n",
        "#Запрашиваем у пользователя возраст, проверяем ввод на ошибки\n",
        "while True:\n",
        "  try:\n",
        "      userage = int(input(\"Введите возраст человека: \"))\n",
        "      dogage1 = 10.5\n",
        "      dogage2 = 10.5\n",
        "      dogage3 = ((userage - 21) / 4) + 2\n",
        "      if userage <= 0:\n",
        "         raise ValueError()\n",
        "      break\n",
        "  except ValueError:\n",
        "    print(\"Ошибка. Допустим только числовой ввод положительных чисел.\")\n",
        " # Считаем возраст, используя условие сначала для первых двух лет, а затем свыше\n",
        "if 1 < userage <= 21:\n",
        "  print(\"Возраст собаки в человеческих мерках: \", userage / dogage1)\n",
        "elif userage == 1:\n",
        "  print(\"Возраст собаки в человеческих мерках\", dogage2)\n",
        "else:\n",
        "  print(\"Возраст собаки в человеческих мерках: \", dogage3)\n",
        "\n"
      ],
      "metadata": {
        "id": "4U_MTic1AdNU",
        "colab": {
          "base_uri": "https://localhost:8080/"
        },
        "outputId": "b1d5fd59-96a2-408f-e7bc-dbdca6fa3968"
      },
      "execution_count": null,
      "outputs": [
        {
          "output_type": "stream",
          "name": "stdout",
          "text": [
            "Введите возраст человека: 35\n",
            "Возраст собаки в человеческих мерках:  5.5\n"
          ]
        }
      ]
    },
    {
      "cell_type": "markdown",
      "source": [
        "## Задача 2. Какого цвета клетка?"
      ],
      "metadata": {
        "id": "WOelnSN-AdVJ"
      }
    },
    {
      "cell_type": "markdown",
      "source": [
        "**Условие.** Клетки на шахматной доске идентифицируются буквой и цифрой. Буква определяет положение клетки по горизонтали, а цифра – по вертикали, как показано на рисунке.\n",
        "\n",
        "![image.png](data:image/png;base64,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)\n",
        "\n",
        "Ваша программа должна запрашивать у пользователя координаты клетки. Используйте условное выражение для определения того, с какой клетки – белой или черной – начинается столбец. Затем при помощи обычной арифметики необходимо определить цвет конкретной клетки. Например, если пользователь ввел a1, программа должна определить, что клетка\n",
        "с этими координатами черная. Если d5 – белая."
      ],
      "metadata": {
        "id": "3eGjbOxrAdVK"
      }
    },
    {
      "cell_type": "code",
      "source": [
        "#Решение\n",
        "#\n",
        "# Запрашиваем у пользователя координаты и проверяем ввод\n",
        "letter = input(\"Введите английскую букву от a до h включительно: \")\n",
        "while True:\n",
        "  try:\n",
        "     number = int(input(\"Введите число от 1 до 8 включительно: \"))\n",
        "     break\n",
        "  except ValueError:\n",
        "    print(\"Ошибка ввода числа\")\n",
        "# Вводим списки букв и чисел\n",
        "letters = [\"a\", \"b\", \"c\", \"d\", \"e\", \"f\", \"g\", \"h\"]\n",
        "numbers = range(1,9)\n",
        "# Вводим условия, проверяем есть ли в списках элементы ввода и выводим ошибки\n",
        "if letter not in letters:\n",
        "    print(\"Некорректный ввод буквы. \")\n",
        "elif number  not in numbers:\n",
        "    print(\"Некорректный ввод числа. \")\n",
        "# Сравнимаем введённые буквы и цифры пользователя с нашими списками с помощью индекса и выводим чётные и нечётные клетки по цвету\n",
        "else:\n",
        "    letter = letters.index(letter)\n",
        "    number = numbers.index(number)\n",
        "    if letter % 2 == number % 2:\n",
        "        print(\"Клетка чёрная\")\n",
        "    else:\n",
        "        print(\"Клетка белая\")\n",
        "\n"
      ],
      "metadata": {
        "id": "dJYXdZOmAdVK",
        "colab": {
          "base_uri": "https://localhost:8080/"
        },
        "outputId": "1369c0f4-60a4-44a2-c6fb-2435c8db87dc"
      },
      "execution_count": null,
      "outputs": [
        {
          "output_type": "stream",
          "name": "stdout",
          "text": [
            "Введите английскую букву от a до h включительно: c\n",
            "Введите число от 1 до 8 включительно: четыре\n",
            "Ошибка ввода числа\n",
            "Введите число от 1 до 8 включительно: 4\n",
            "Клетка белая\n"
          ]
        }
      ]
    },
    {
      "cell_type": "markdown",
      "source": [
        "## Задача 3. Игра Fizz-Buzz."
      ],
      "metadata": {
        "id": "XOyY1qnfAc8A"
      }
    },
    {
      "cell_type": "markdown",
      "source": [
        "**Условие.** Fizz-Buzz  – это известная игра, помогающая детям освоить в  игровой форме правила деления. Участники садятся в круг, чтобы игра теоретически могла продолжаться бесконечно. Первый игрок говорит «Один» и передает ход тому, кто слева. Каждый следующий игрок должен мысленно прибавить к предыдущему числу единицу и произнести либо его, либо одно из ключевых слов: Fizz, если число без остатка делится на три, или Buzz, если на пять. Если соблюдаются оба этих условия, он произносит Fizz-Buzz. Игрок, не сумевший сказать правильное слово, выбывает из игры. Последний оставшийся игрок признается победителем.\n",
        "Разработайте программу, реализующую алгоритм игры Fizz-Buzz применительно к  первым 100 числам. Каждый следующий ответ должен отображаться на новой строке."
      ],
      "metadata": {
        "id": "KxclOyAZAc8B"
      }
    },
    {
      "cell_type": "code",
      "source": [
        "#Решение\n",
        "#\n",
        "# Создаём список в цикле и перебираем возможные варианты подходящих чисел по условиям\n",
        "for i in range(1, 101):\n",
        "    if i%3==0 and i%5==0:\n",
        "        print(\"Fizz-Buzz\")\n",
        "    elif i%3==0:\n",
        "            print(\"Fizz\")\n",
        "    elif i%5==0:\n",
        "            print(\"Buzz\")\n",
        "    else:\n",
        "        print(i)"
      ],
      "metadata": {
        "id": "Ju8EWcQ7Ac8C",
        "colab": {
          "base_uri": "https://localhost:8080/"
        },
        "outputId": "140e3f8f-c569-4571-8545-c3548899965b"
      },
      "execution_count": null,
      "outputs": [
        {
          "output_type": "stream",
          "name": "stdout",
          "text": [
            "1\n",
            "2\n",
            "Fizz\n",
            "4\n",
            "Buzz\n",
            "Fizz\n",
            "7\n",
            "8\n",
            "Fizz\n",
            "Buzz\n",
            "11\n",
            "Fizz\n",
            "13\n",
            "14\n",
            "Fizz-Buzz\n",
            "16\n",
            "17\n",
            "Fizz\n",
            "19\n",
            "Buzz\n",
            "Fizz\n",
            "22\n",
            "23\n",
            "Fizz\n",
            "Buzz\n",
            "26\n",
            "Fizz\n",
            "28\n",
            "29\n",
            "Fizz-Buzz\n",
            "31\n",
            "32\n",
            "Fizz\n",
            "34\n",
            "Buzz\n",
            "Fizz\n",
            "37\n",
            "38\n",
            "Fizz\n",
            "Buzz\n",
            "41\n",
            "Fizz\n",
            "43\n",
            "44\n",
            "Fizz-Buzz\n",
            "46\n",
            "47\n",
            "Fizz\n",
            "49\n",
            "Buzz\n",
            "Fizz\n",
            "52\n",
            "53\n",
            "Fizz\n",
            "Buzz\n",
            "56\n",
            "Fizz\n",
            "58\n",
            "59\n",
            "Fizz-Buzz\n",
            "61\n",
            "62\n",
            "Fizz\n",
            "64\n",
            "Buzz\n",
            "Fizz\n",
            "67\n",
            "68\n",
            "Fizz\n",
            "Buzz\n",
            "71\n",
            "Fizz\n",
            "73\n",
            "74\n",
            "Fizz-Buzz\n",
            "76\n",
            "77\n",
            "Fizz\n",
            "79\n",
            "Buzz\n",
            "Fizz\n",
            "82\n",
            "83\n",
            "Fizz\n",
            "Buzz\n",
            "86\n",
            "Fizz\n",
            "88\n",
            "89\n",
            "Fizz-Buzz\n",
            "91\n",
            "92\n",
            "Fizz\n",
            "94\n",
            "Buzz\n",
            "Fizz\n",
            "97\n",
            "98\n",
            "Fizz\n",
            "Buzz\n"
          ]
        }
      ]
    },
    {
      "cell_type": "markdown",
      "source": [
        "## Задача 4. Избавляемся от дубликатов."
      ],
      "metadata": {
        "id": "wgQ1jjSFAcx4"
      }
    },
    {
      "cell_type": "markdown",
      "source": [
        "**Условие.** В данном упражнении вам предстоит разработать программу, в которой у  пользователя будет запрошен список слов, пока он не оставит строку ввода пустой. После этого на экране должны быть показаны слова, введенные пользователем, но без повторов, – каждое по одному разу. При этом\n",
        "слова должны быть отображены в том же порядке, в  каком их вводили с клавиатуры. Например, если пользователь на запрос программы введет следующий список слов:\n",
        "```\n",
        "first\n",
        "second\n",
        "first\n",
        "third\n",
        "second\n",
        "```\n",
        "программа должна вывести:\n",
        "```\n",
        "first\n",
        "second\n",
        "third\n",
        "```"
      ],
      "metadata": {
        "id": "92iWI-qmAcx4"
      }
    },
    {
      "cell_type": "code",
      "source": [
        "#Решение\n",
        "#\n",
        "# Запрашиваем у пользователя слова\n",
        "wordlist = [input()]\n",
        "while True:\n",
        "    words = input()\n",
        "    if not words:\n",
        "        break\n",
        "    elif words not in wordlist:\n",
        "        wordlist.append(words)\n",
        "print(*wordlist)\n"
      ],
      "metadata": {
        "id": "5AwCxxTHAcx5",
        "colab": {
          "base_uri": "https://localhost:8080/"
        },
        "outputId": "1527fca3-db14-42af-96f6-6be0fe8f56ac"
      },
      "execution_count": null,
      "outputs": [
        {
          "output_type": "stream",
          "name": "stdout",
          "text": [
            "first\n",
            "second\n",
            "first\n",
            "third\n",
            "second\n",
            "\n",
            "first second third\n"
          ]
        }
      ]
    },
    {
      "cell_type": "markdown",
      "source": [
        "## Задача 5. Ниже и выше среднего."
      ],
      "metadata": {
        "id": "AbSoL3XYQacd"
      }
    },
    {
      "cell_type": "markdown",
      "source": [
        "**Условие.** Напишите программу, которая будет запрашивать у  пользователя числа, пока не будет введена пустая строка. Сначала на экран должно быть выведено среднее значение введенного ряда чисел, после этого друг за другом необходимо вывести список чисел ниже среднего, равных ему (если такие\n",
        "найдутся) и выше среднего. Каждый список должен предваряться соответствующим заголовком.\n"
      ],
      "metadata": {
        "id": "IG1nr4e1Qaco"
      }
    },
    {
      "cell_type": "code",
      "source": [
        "#Решение\n",
        "#\n",
        "import statistics\n",
        "# Добавляем список\n",
        "numberlist = []\n",
        "# Запрашиваем у пользователя число\n",
        "numbers = int(input(\"Введите число. Для завершения введите 0: \"))\n",
        "# Добавляем в список\n",
        "while numbers != 0:\n",
        "      numberlist.append(numbers)\n",
        "      numbers = int(input(\"Введите число. Для завершения введите 0: \"))\n",
        "# Вычисляем среднее значение и выводим на экран\n",
        "a = statistics.mean(numberlist)\n",
        "print(\"Среднее значение\", a)\n",
        "# Вычисляем значения ниже, равное и выше среднего и выводим на экран\n",
        "for i in numberlist:\n",
        "    if i < a:\n",
        "        print(\"Ниже среднего: \", i)\n",
        "for i in numberlist:\n",
        "    if i == a:\n",
        "        print(\"Равное: \", i)\n",
        "for i in numberlist:\n",
        "    if i > a:\n",
        "        print(\"Выше среднего: \", i)\n"
      ],
      "metadata": {
        "id": "7vaJPZhTQaco",
        "colab": {
          "base_uri": "https://localhost:8080/"
        },
        "outputId": "46e44cf0-aa00-4882-fc15-8b4f46a1a08f"
      },
      "execution_count": null,
      "outputs": [
        {
          "output_type": "stream",
          "name": "stdout",
          "text": [
            "Введите число. Для завершения введите 0: 8\n",
            "Введите число. Для завершения введите 0: 5\n",
            "Введите число. Для завершения введите 0: 4\n",
            "Введите число. Для завершения введите 0: 6\n",
            "Введите число. Для завершения введите 0: 8\n",
            "Введите число. Для завершения введите 0: 1\n",
            "Введите число. Для завершения введите 0: 7\n",
            "Введите число. Для завершения введите 0: 0\n",
            "Среднее значение 5.571428571428571\n",
            "Нниже среднего:  5\n",
            "Нниже среднего:  4\n",
            "Нниже среднего:  1\n",
            "Выше среднего:  8\n",
            "Выше среднего:  6\n",
            "Выше среднего:  8\n",
            "Выше среднего:  7\n"
          ]
        }
      ]
    },
    {
      "cell_type": "markdown",
      "source": [
        "## Задача 6. Решето Эратосфена."
      ],
      "metadata": {
        "id": "cvUlq936Qbub"
      }
    },
    {
      "cell_type": "markdown",
      "source": [
        "**Условие.** Решето Эратосфена – алгоритм, изобретенный более 2000 лет назад и служащий для нахождения всех простых чисел от 2 до некоторого целого числа n. Ваше решение должно начинаться с предложения пользователю ввести число, до которого необходимо вывести простые числа. Описание этого алгоритма приведено ниже.\n",
        "```\n",
        "Выписываем все целые числа от 0 до заданной границы\n",
        "Вычеркиваем 0 и 1 как непростые числа\n",
        "Устанавливаем значение переменной p, равное 2\n",
        "Пока p меньше указанного числа, делать\n",
        " Вычеркиваем все числа, кратные p, но не его само\n",
        " Устанавливаем значение p, равное следующему невычеркнутому числу\n",
        "Выводим все числа, оставшиеся незачеркнутыми\n",
        "```\n",
        "\n",
        "Ценность данного алгоритма заключается в том, что на бумаге очень легко вычеркнуть все числа, кратные определенному. Для компьютера это также не самая сложная задача – с этим может прекрасно справиться инструкция for с третьим параметром, переданным функции range. Мы знаем, что вычеркнутые числа на листочке не являются простыми, но физически они никуда с листа не деваются и должны участвовать в дальнейшем алгоритме. Так что и в компьютерной симуляции не стоит «вычеркивать» элемент путем его удаления из списка – вместо этого лучше\n",
        "будет присвоить ему значение 0. После завершения алгоритма все ненулевые числа в списке и будут простыми.\n",
        "Напишите программу на Python, реализующую указанный выше алгоритм для отображения простых чисел в интервале от двух до значения, введенного пользователем. Если алгоритм будет реализован правильно, ваша программа справится с выводом всех простых чисел от двух до миллиона всего за пару секунд."
      ],
      "metadata": {
        "id": "eONtOCDwQbub"
      }
    },
    {
      "cell_type": "markdown",
      "source": [
        "> **Примечание.** Приведенный в данном упражнении алгоритм поиска простых чисел, названный в честь Эратосфена, был далеко не единственным вкладом греческого математика в науку. Ему также приписывают вычисление длины окружности Земли\n",
        "и градус наклона ее оси. Кроме того, с 235 г. до н. э. он служил хранителем знаменитой Александрийской библиотеки."
      ],
      "metadata": {
        "id": "BUNWREIfWfIW"
      }
    },
    {
      "cell_type": "code",
      "source": [
        "#Решение\n",
        "#\n",
        "# Запрашиваем у пользователя верхнее значение и проверяем ввод\n",
        "while True:\n",
        "  try:\n",
        "      highcount = int(input(\"Введите желаемое верхнее значение для простых чисел: \"))\n",
        "      if highcount < 2:\n",
        "         raise ValueError()\n",
        "      break\n",
        "  except ValueError:\n",
        "    print(\"Ошибка. Допустим ввод только простых чисел больше двух. \")\n",
        "# Создаем список от 0 до верхнего значения\n",
        "numberlist = []\n",
        "for i in range(0, highcount + 1):\n",
        "    numberlist.append(i)\n",
        "# Заменяем единицу на 0\n",
        "numberlist[1] = 0\n",
        "# Убираем единицу\n",
        "a = 2\n",
        "while a < highcount:\n",
        "# Заменяем числа, кратные a\n",
        "   for i in range(a * 2, highcount + 1, a):\n",
        "     numberlist[i] = 0\n",
        "   a = a + 1\n",
        "   while a < highcount and numberlist[a] == 0:\n",
        "       a = a + 1\n",
        "# Выводим на экран\n",
        "print(\"Простые числа до верхнего значения: \", highcount,)\n",
        "for i in numberlist:\n",
        "    if numberlist[i] != 0:\n",
        "        print(i)"
      ],
      "metadata": {
        "id": "qKeEh9AyQbuc",
        "colab": {
          "base_uri": "https://localhost:8080/"
        },
        "outputId": "103a3a9a-162a-4380-b018-8114d4463142"
      },
      "execution_count": null,
      "outputs": [
        {
          "output_type": "stream",
          "name": "stdout",
          "text": [
            "Введите желаемое верхнее значение для простых чисел: 0\n",
            "Ошибка. Допустим ввод только простых чисел больше двух. \n",
            "Введите желаемое верхнее значение для простых чисел: десять\n",
            "Ошибка. Допустим ввод только простых чисел больше двух. \n",
            "Введите желаемое верхнее значение для простых чисел: 88\n",
            "Простые числа до верхнего значения:  88\n",
            "2\n",
            "3\n",
            "5\n",
            "7\n",
            "11\n",
            "13\n",
            "17\n",
            "19\n",
            "23\n",
            "29\n",
            "31\n",
            "37\n",
            "41\n",
            "43\n",
            "47\n",
            "53\n",
            "59\n",
            "61\n",
            "67\n",
            "71\n",
            "73\n",
            "79\n",
            "83\n"
          ]
        }
      ]
    },
    {
      "cell_type": "markdown",
      "source": [
        "## Задача 7. Эрудит."
      ],
      "metadata": {
        "id": "mIKDYrmOQcKR"
      }
    },
    {
      "cell_type": "markdown",
      "source": [
        "**Условие.** В известной игре Эрудит (Scrabble) каждой букве соответствует определенное количество очков. Общая сумма очков, которую получает игрок,\n",
        "составивший это слово, складывается из очков за каждую букву, входящую\n",
        "в его состав. Чем более употребимой является буква в языке, тем меньше\n",
        "очков начисляется за ее использование. Напишите программу, рассчитывающую и отображающую количество очков за собранное слово. Создайте словарь для хранения соответствий между буквами и очками и используйте его в своем решении.\n",
        "Система очков в игре Эрудит:\n",
        "  * 1  - A, E, I, L, N, O, R, S, T и U\n",
        "  * 2  - D и G\n",
        "  * 3  - B, C, M и P\n",
        "  * 4  - F, H, V, W и Y\n",
        "  * 5  - K\n",
        "  * 8  - J и X\n",
        "  * 10 - Q и Z"
      ],
      "metadata": {
        "id": "kCho9pK5YqNx"
      }
    },
    {
      "cell_type": "code",
      "source": [
        "# Решение\n",
        "#\n",
        "# Создаем словарь с ключами и значениями\n",
        "keys = {\"A\": 1, \"B\": 3, \"C\": 3, \"D\": 2, \"E\": 1, \"F\": 4, \"G\": 2, \"H\": 4, \"I\": 1, \"J\": 2, \"K\": 5, \"L\": 1, \"M\": 3, \"N\": 1, \\\n",
        "        \"O\": 1, \"P\": 3, \"Q\": 10, \"R\": 1, \"S\": 1, \"T\": 1, \"U\": 1, \"V\": 4, \"W\": 4, \"X\": 8,\"Y\": 4, \"Z\": 10}\n",
        "  # Запрашиваем у пользователя слово\n",
        "word = input(\"Введите слово: \")\n",
        "# Считаем количество очков\n",
        "lettercase = word.upper()\n",
        "total = 0\n",
        "for i in lettercase:\n",
        "   try: total = total + keys[i]\n",
        "   except: continue\n",
        "# Выводим результат\n",
        "print(\"Слово: \", word, \"приносит\", total, \"очков.\")"
      ],
      "metadata": {
        "id": "-Fa30-d5Z0Fo",
        "colab": {
          "base_uri": "https://localhost:8080/"
        },
        "outputId": "a579282e-256d-4a58-fc47-f8d9633e4e59"
      },
      "execution_count": null,
      "outputs": [
        {
          "output_type": "stream",
          "name": "stdout",
          "text": [
            "Введите слово: QuacK1ShOT9\n",
            "Слово:  QuacK1ShOT9 приносит 27 очков.\n"
          ]
        }
      ]
    }
  ]
}